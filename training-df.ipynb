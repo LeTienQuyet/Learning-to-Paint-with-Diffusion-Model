{
 "cells": [
  {
   "cell_type": "markdown",
   "metadata": {},
   "source": [
    "# 1. Install packages"
   ]
  },
  {
   "cell_type": "code",
   "execution_count": null,
   "metadata": {
    "_cell_guid": "b1076dfc-b9ad-4769-8c92-a6c4dae69d19",
    "_uuid": "8f2839f25d086af736a60e9eeb907d3b93b6e0e5",
    "collapsed": true,
    "execution": {
     "iopub.execute_input": "2025-09-24T15:49:27.591448Z",
     "iopub.status.busy": "2025-09-24T15:49:27.591232Z",
     "iopub.status.idle": "2025-09-24T15:50:46.537657Z",
     "shell.execute_reply": "2025-09-24T15:50:46.536928Z",
     "shell.execute_reply.started": "2025-09-24T15:49:27.591426Z"
    },
    "jupyter": {
     "outputs_hidden": true
    },
    "trusted": true
   },
   "outputs": [],
   "source": [
    "!git clone https://github.com/openai/improved-diffusion.git\n",
    "%cd improved-diffusion\n",
    "!pip install -e ."
   ]
  },
  {
   "cell_type": "code",
   "execution_count": null,
   "metadata": {
    "execution": {
     "iopub.execute_input": "2025-09-24T15:50:46.538972Z",
     "iopub.status.busy": "2025-09-24T15:50:46.538677Z",
     "iopub.status.idle": "2025-09-24T15:50:49.983535Z",
     "shell.execute_reply": "2025-09-24T15:50:49.982834Z",
     "shell.execute_reply.started": "2025-09-24T15:50:46.538934Z"
    },
    "trusted": true
   },
   "outputs": [],
   "source": [
    "!pip install mpi4py"
   ]
  },
  {
   "cell_type": "markdown",
   "metadata": {},
   "source": [
    "# 2. Setting for training"
   ]
  },
  {
   "cell_type": "code",
   "execution_count": 3,
   "metadata": {
    "execution": {
     "iopub.execute_input": "2025-09-24T15:50:49.985648Z",
     "iopub.status.busy": "2025-09-24T15:50:49.985415Z",
     "iopub.status.idle": "2025-09-24T15:50:49.989562Z",
     "shell.execute_reply": "2025-09-24T15:50:49.988860Z",
     "shell.execute_reply.started": "2025-09-24T15:50:49.985625Z"
    },
    "trusted": true
   },
   "outputs": [],
   "source": [
    "import os\n",
    "os.environ[\"OPENAI_LOGDIR\"] = \"/kaggle/working/checkpoints\""
   ]
  },
  {
   "cell_type": "code",
   "execution_count": 4,
   "metadata": {
    "execution": {
     "iopub.execute_input": "2025-09-24T15:50:49.990357Z",
     "iopub.status.busy": "2025-09-24T15:50:49.990143Z",
     "iopub.status.idle": "2025-09-24T15:50:50.003509Z",
     "shell.execute_reply": "2025-09-24T15:50:50.002896Z",
     "shell.execute_reply.started": "2025-09-24T15:50:49.990341Z"
    },
    "trusted": true
   },
   "outputs": [],
   "source": [
    "MODEL_FLAGS=\"--image_size 256 --num_channels 128 --num_res_blocks 2 --num_heads 1 --learn_sigma True --use_scale_shift_norm False --attention_resolutions 16\"\n",
    "DIFFUSION_FLAGS=\"--diffusion_steps 1000 --noise_schedule linear --rescale_learned_sigmas False --rescale_timesteps False --use_scale_shift_norm False\"\n",
    "TRAIN_FLAGS=\"--lr 2e-5 --batch_size 4 --lr_anneal_steps 132000 --log_interval 3000 --save_interval 36000\""
   ]
  },
  {
   "cell_type": "markdown",
   "metadata": {},
   "source": [
    "## 2.1 Training"
   ]
  },
  {
   "cell_type": "code",
   "execution_count": null,
   "metadata": {
    "collapsed": true,
    "execution": {
     "iopub.execute_input": "2025-09-24T00:22:58.253444Z",
     "iopub.status.busy": "2025-09-24T00:22:58.253194Z",
     "iopub.status.idle": "2025-09-24T07:17:20.916430Z",
     "shell.execute_reply": "2025-09-24T07:17:20.915454Z",
     "shell.execute_reply.started": "2025-09-24T00:22:58.253423Z"
    },
    "jupyter": {
     "outputs_hidden": true
    },
    "trusted": true
   },
   "outputs": [],
   "source": [
    "!python scripts/image_train.py \\\n",
    "    --data_dir /kaggle/input/train-dataset/train-dataset \\\n",
    "    $MODEL_FLAGS $DIFFUSION_FLAGS $TRAIN_FLAGS"
   ]
  },
  {
   "cell_type": "markdown",
   "metadata": {},
   "source": [
    "## 2.2 Sampling"
   ]
  },
  {
   "cell_type": "code",
   "execution_count": null,
   "metadata": {
    "execution": {
     "iopub.execute_input": "2025-09-24T15:50:50.005051Z",
     "iopub.status.busy": "2025-09-24T15:50:50.004376Z",
     "iopub.status.idle": "2025-09-24T16:02:17.511457Z",
     "shell.execute_reply": "2025-09-24T16:02:17.510688Z",
     "shell.execute_reply.started": "2025-09-24T15:50:50.005027Z"
    },
    "trusted": true
   },
   "outputs": [],
   "source": [
    "!python scripts/image_sample.py --model_path /kaggle/input/pretrained-132k/pytorch/default/1/132k/ema_0.9999_132000.pt --batch_size 4 --num_samples 152 $MODEL_FLAGS $DIFFUSION_FLAGS"
   ]
  },
  {
   "cell_type": "code",
   "execution_count": 6,
   "metadata": {
    "execution": {
     "iopub.execute_input": "2025-09-24T16:02:17.512621Z",
     "iopub.status.busy": "2025-09-24T16:02:17.512416Z",
     "iopub.status.idle": "2025-09-24T16:02:17.866651Z",
     "shell.execute_reply": "2025-09-24T16:02:17.866095Z",
     "shell.execute_reply.started": "2025-09-24T16:02:17.512597Z"
    },
    "trusted": true
   },
   "outputs": [],
   "source": [
    "import numpy as np\n",
    "from PIL import Image\n",
    "import os\n",
    "\n",
    "data = np.load(\"/kaggle/working/checkpoints/samples_12x256x256x3.npz\")\n",
    "images = data[\"arr_0\"]\n",
    "\n",
    "os.makedirs(\"/kaggle/working/samples_png\", exist_ok=True)\n",
    "for i, img in enumerate(images):\n",
    "    Image.fromarray(img).save(f\"/kaggle/working/samples_png/{i:05d}.png\")\n"
   ]
  },
  {
   "cell_type": "markdown",
   "metadata": {},
   "source": [
    "# 3. Evaluation"
   ]
  },
  {
   "cell_type": "code",
   "execution_count": null,
   "metadata": {
    "collapsed": true,
    "execution": {
     "iopub.execute_input": "2025-09-24T14:16:31.584968Z",
     "iopub.status.busy": "2025-09-24T14:16:31.584018Z",
     "iopub.status.idle": "2025-09-24T14:16:35.045769Z",
     "shell.execute_reply": "2025-09-24T14:16:35.045161Z",
     "shell.execute_reply.started": "2025-09-24T14:16:31.584917Z"
    },
    "jupyter": {
     "outputs_hidden": true
    },
    "trusted": true
   },
   "outputs": [],
   "source": [
    "!pip install pytorch-fid"
   ]
  },
  {
   "cell_type": "code",
   "execution_count": null,
   "metadata": {
    "execution": {
     "iopub.execute_input": "2025-09-24T14:16:35.048078Z",
     "iopub.status.busy": "2025-09-24T14:16:35.047413Z"
    },
    "trusted": true
   },
   "outputs": [],
   "source": [
    "!python -m pytorch_fid /kaggle/input/dev-dataset/dev-dataset /kaggle/working/samples_png --device cuda:0"
   ]
  }
 ],
 "metadata": {
  "kaggle": {
   "accelerator": "gpu",
   "dataSources": [
    {
     "datasetId": 8318902,
     "sourceId": 13131662,
     "sourceType": "datasetVersion"
    },
    {
     "datasetId": 8318906,
     "sourceId": 13131667,
     "sourceType": "datasetVersion"
    },
    {
     "isSourceIdPinned": true,
     "modelId": 457007,
     "modelInstanceId": 440464,
     "sourceId": 589039,
     "sourceType": "modelInstanceVersion"
    }
   ],
   "dockerImageVersionId": 31089,
   "isGpuEnabled": true,
   "isInternetEnabled": true,
   "language": "python",
   "sourceType": "notebook"
  },
  "kernelspec": {
   "display_name": "Python 3",
   "language": "python",
   "name": "python3"
  },
  "language_info": {
   "codemirror_mode": {
    "name": "ipython",
    "version": 3
   },
   "file_extension": ".py",
   "mimetype": "text/x-python",
   "name": "python",
   "nbconvert_exporter": "python",
   "pygments_lexer": "ipython3",
   "version": "3.11.13"
  }
 },
 "nbformat": 4,
 "nbformat_minor": 4
}
